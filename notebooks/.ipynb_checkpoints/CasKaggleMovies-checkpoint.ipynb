{
 "cells": [
  {
   "cell_type": "markdown",
   "id": "9fdbec66",
   "metadata": {},
   "source": [
    "# UAB - Aprendizaje Computacional  \n"
   ]
  },
  {
   "cell_type": "markdown",
   "id": "0d39fe3d",
   "metadata": {},
   "source": [
    "## Cas Kaggle "
   ]
  },
  {
   "cell_type": "markdown",
   "id": "e7e28bc5",
   "metadata": {},
   "source": [
    "### Introducció"
   ]
  },
  {
   "cell_type": "markdown",
   "id": "37fd89d4",
   "metadata": {},
   "source": [
    "La base de dades consisteix en un conjunt de pel·lícules majoritàriament del segle 21 però també del segle 20.\n",
    "Cada pel·lícula té marcat en quina plataforma de Streaming hi és.\n",
    "\n",
    "Plataformes hi ha les 4 més importants avui dia: Netflix, Hulu, Prime Video i Disney +.\n",
    "També conté la valoració de cadascuna de les pel·lícules a la web \"Rotten Tomatoes\". És una web molt coneguda i respectada a escala mundial sobre el món cinematogràfic.\n",
    "\n",
    "La idea darrere d'aquest dataset és poder saber a quina plataforma anar quan es vulgui veure una pel·lícula en particular, i també fer un estudi sobre els conjunts de pel·lícules orientades a una franja d'edat i les plataformes que les ofereixen."
   ]
  },
  {
   "cell_type": "markdown",
   "id": "67fd9fe6",
   "metadata": {},
   "source": [
    "### Llibreries usades"
   ]
  },
  {
   "cell_type": "code",
   "execution_count": 1,
   "id": "353b2a33",
   "metadata": {},
   "outputs": [],
   "source": [
    "import numpy as np\n",
    "import os\n",
    "import pandas as pd\n",
    "import matplotlib.pyplot as plt\n",
    "from sklearn.linear_model import LogisticRegression\n",
    "from sklearn import svm, ensemble,metrics\n",
    "from sklearn.model_selection import train_test_split, GridSearchCV,RandomizedSearchCV,KFold, StratifiedKFold, cross_val_score,LeaveOneOut\n",
    "from numpy import mean,std\n",
    "import seaborn as sns\n",
    "from sklearn.metrics import confusion_matrix, accuracy_score,precision_score, recall_score, f1_score, accuracy_score,roc_curve,classification_report,auc,precision_recall_curve\n",
    "from sklearn.preprocessing import OneHotEncoder\n",
    "from sklearn.svm import SVC\n",
    "from sklearn.ensemble import RandomForestClassifier\n",
    "from sklearn.neighbors import KNeighborsClassifier\n",
    "from sklearn.tree import DecisionTreeClassifier\n",
    "from sklearn.naive_bayes import GaussianNB\n",
    "import warnings\n",
    "import altair as alt\n",
    "from imblearn.under_sampling import RandomUnderSampler\n",
    "import timeit\n",
    "from collections import Counter"
   ]
  },
  {
   "cell_type": "markdown",
   "id": "b7fddd2d",
   "metadata": {},
   "source": [
    "## Informació de les dades"
   ]
  },
  {
   "cell_type": "markdown",
   "id": "53137215",
   "metadata": {},
   "source": [
    "### Càrrega del Dataset:"
   ]
  },
  {
   "cell_type": "markdown",
   "id": "541e4280",
   "metadata": {},
   "source": [
    "Primer carregarem el dataset i farem un estudi de les dades per entendre-les en profunditat. Si és necessari es farà una neteja de les dades."
   ]
  },
  {
   "cell_type": "code",
   "execution_count": 2,
   "id": "13774ab2",
   "metadata": {},
   "outputs": [],
   "source": [
    "dataset = \"../data/archive/MoviesOnStreamingPlatforms.csv\"\n",
    "dades = pd.read_csv(dataset)"
   ]
  },
  {
   "cell_type": "markdown",
   "id": "9c00a0b7",
   "metadata": {},
   "source": [
    "Observant les dades podem veure que la primera columna és el número de fila i que l'última és el tipus: pel·lícula o sèrie de televisió. Però observant la web kaggle sabem que totes les files corresponen a pel·lícules, no hi ha cap sèrie de televisió. Per tant, cap de les dues columnes dona cap informació rellevant, així que s'eliminen:"
   ]
  },
  {
   "cell_type": "code",
   "execution_count": 3,
   "id": "43fec958",
   "metadata": {},
   "outputs": [
    {
     "data": {
      "text/html": [
       "<div>\n",
       "<style scoped>\n",
       "    .dataframe tbody tr th:only-of-type {\n",
       "        vertical-align: middle;\n",
       "    }\n",
       "\n",
       "    .dataframe tbody tr th {\n",
       "        vertical-align: top;\n",
       "    }\n",
       "\n",
       "    .dataframe thead th {\n",
       "        text-align: right;\n",
       "    }\n",
       "</style>\n",
       "<table border=\"1\" class=\"dataframe\">\n",
       "  <thead>\n",
       "    <tr style=\"text-align: right;\">\n",
       "      <th></th>\n",
       "      <th>ID</th>\n",
       "      <th>Title</th>\n",
       "      <th>Year</th>\n",
       "      <th>Age</th>\n",
       "      <th>Rotten Tomatoes</th>\n",
       "      <th>Netflix</th>\n",
       "      <th>Hulu</th>\n",
       "      <th>Prime Video</th>\n",
       "      <th>Disney+</th>\n",
       "    </tr>\n",
       "  </thead>\n",
       "  <tbody>\n",
       "    <tr>\n",
       "      <th>0</th>\n",
       "      <td>1</td>\n",
       "      <td>The Irishman</td>\n",
       "      <td>2019</td>\n",
       "      <td>18+</td>\n",
       "      <td>98/100</td>\n",
       "      <td>1</td>\n",
       "      <td>0</td>\n",
       "      <td>0</td>\n",
       "      <td>0</td>\n",
       "    </tr>\n",
       "    <tr>\n",
       "      <th>1</th>\n",
       "      <td>2</td>\n",
       "      <td>Dangal</td>\n",
       "      <td>2016</td>\n",
       "      <td>7+</td>\n",
       "      <td>97/100</td>\n",
       "      <td>1</td>\n",
       "      <td>0</td>\n",
       "      <td>0</td>\n",
       "      <td>0</td>\n",
       "    </tr>\n",
       "    <tr>\n",
       "      <th>2</th>\n",
       "      <td>3</td>\n",
       "      <td>David Attenborough: A Life on Our Planet</td>\n",
       "      <td>2020</td>\n",
       "      <td>7+</td>\n",
       "      <td>95/100</td>\n",
       "      <td>1</td>\n",
       "      <td>0</td>\n",
       "      <td>0</td>\n",
       "      <td>0</td>\n",
       "    </tr>\n",
       "    <tr>\n",
       "      <th>3</th>\n",
       "      <td>4</td>\n",
       "      <td>Lagaan: Once Upon a Time in India</td>\n",
       "      <td>2001</td>\n",
       "      <td>7+</td>\n",
       "      <td>94/100</td>\n",
       "      <td>1</td>\n",
       "      <td>0</td>\n",
       "      <td>0</td>\n",
       "      <td>0</td>\n",
       "    </tr>\n",
       "    <tr>\n",
       "      <th>4</th>\n",
       "      <td>5</td>\n",
       "      <td>Roma</td>\n",
       "      <td>2018</td>\n",
       "      <td>18+</td>\n",
       "      <td>94/100</td>\n",
       "      <td>1</td>\n",
       "      <td>0</td>\n",
       "      <td>0</td>\n",
       "      <td>0</td>\n",
       "    </tr>\n",
       "  </tbody>\n",
       "</table>\n",
       "</div>"
      ],
      "text/plain": [
       "   ID                                     Title  Year  Age Rotten Tomatoes  \\\n",
       "0   1                              The Irishman  2019  18+          98/100   \n",
       "1   2                                    Dangal  2016   7+          97/100   \n",
       "2   3  David Attenborough: A Life on Our Planet  2020   7+          95/100   \n",
       "3   4         Lagaan: Once Upon a Time in India  2001   7+          94/100   \n",
       "4   5                                      Roma  2018  18+          94/100   \n",
       "\n",
       "   Netflix  Hulu  Prime Video  Disney+  \n",
       "0        1     0            0        0  \n",
       "1        1     0            0        0  \n",
       "2        1     0            0        0  \n",
       "3        1     0            0        0  \n",
       "4        1     0            0        0  "
      ]
     },
     "execution_count": 3,
     "metadata": {},
     "output_type": "execute_result"
    }
   ],
   "source": [
    "# Eliminem la primera columna perquè es tracta d'un index que no ens fa falta\n",
    "dades.drop(dades.columns[0], inplace = True, axis = 1)\n",
    "dades.drop(dades.columns[-1], inplace = True, axis = 1)\n",
    "# Printem les 5 primeres linies per observar que s'ha eliminat correctament\n",
    "dades.head()"
   ]
  },
  {
   "cell_type": "code",
   "execution_count": 4,
   "id": "2390183c",
   "metadata": {},
   "outputs": [
    {
     "name": "stdout",
     "output_type": "stream",
     "text": [
      "files: 9515\n",
      "columnes: 9\n"
     ]
    }
   ],
   "source": [
    "print(\"files: {}\".format(dades.shape[0]))\n",
    "print(\"columnes: {}\".format(dades.shape[1]))"
   ]
  },
  {
   "cell_type": "markdown",
   "id": "29b9745d",
   "metadata": {},
   "source": [
    "Com es pot observar a les 5 files printades d'exemple, el dataset té un id, l'any de sortida de la pel·lícula, el mínim d'edat recomanat, la valoració i a quines plataformes hi és. Equival a 8 columnes significatives, 10 el dataset total."
   ]
  },
  {
   "cell_type": "code",
   "execution_count": 5,
   "id": "60d57042",
   "metadata": {},
   "outputs": [
    {
     "data": {
      "text/plain": [
       "Age                4177\n",
       "Rotten Tomatoes       7\n",
       "dtype: int64"
      ]
     },
     "execution_count": 5,
     "metadata": {},
     "output_type": "execute_result"
    }
   ],
   "source": [
    "null_counts = dades.isnull().sum()\n",
    "null_counts[null_counts>0]"
   ]
  },
  {
   "cell_type": "markdown",
   "id": "3a295e43",
   "metadata": {},
   "source": [
    "Com es pot Observar hi ha un gran número de nulls a la columna \"Age\" i pocs a la \"Rotten Tomatoes\". Els nulls de la segona columna són massa pocs perquè aquests siguin rellevants per l'estudi, però els 4177 nulls de la primera si afectarien gaire als resultats. Per tant, es procedeix a eliminar les files que tinguin null:"
   ]
  },
  {
   "cell_type": "code",
   "execution_count": 6,
   "id": "72c94c1e",
   "metadata": {},
   "outputs": [
    {
     "name": "stdout",
     "output_type": "stream",
     "text": [
      "files: 5338\n"
     ]
    }
   ],
   "source": [
    "dades = dades.dropna(subset=['Age'])\n",
    "print(\"files: {}\".format(dades.shape[0]))"
   ]
  },
  {
   "cell_type": "markdown",
   "id": "d79f8abb",
   "metadata": {},
   "source": [
    "## Anàlisi de la informació"
   ]
  },
  {
   "cell_type": "markdown",
   "id": "e6fb3400",
   "metadata": {},
   "source": [
    "Ara que ja s'ha netejat el dataset i s'ha estudiat bé les dades ja podem començar amb l'anàlisi.\n",
    "\n",
    "Hem vist que les columnes que representen si una pel·lícula hi és o no en una plataforma de Streaming, són categòriques, és a dir, només poden tenir 2 valors: 0 o 1. Per tant, podem extreure gràfiques de la proporció dels 2 valors que té cada plataforma, i així saber quina d'elles té més pel·lícules:"
   ]
  },
  {
   "cell_type": "code",
   "execution_count": 7,
   "id": "24a9a689",
   "metadata": {},
   "outputs": [],
   "source": [
    "# Funció per la visualització en un gràfic de barres per la distribució de l'atribut x que es pasa com a paràmetre \n",
    "def plot_distributionCount(x, data):\n",
    "    plt.subplots(figsize=(6, 4))\n",
    "    sns.countplot(x=x, data=data, order=data[x].value_counts().index, palette='icefire_r')\n",
    "    plt.xlabel('sentiment')\n",
    "    plt.tight_layout()\n",
    "    plt.show()"
   ]
  }
 ],
 "metadata": {
  "kernelspec": {
   "display_name": "Python 3 (ipykernel)",
   "language": "python",
   "name": "python3"
  },
  "language_info": {
   "codemirror_mode": {
    "name": "ipython",
    "version": 3
   },
   "file_extension": ".py",
   "mimetype": "text/x-python",
   "name": "python",
   "nbconvert_exporter": "python",
   "pygments_lexer": "ipython3",
   "version": "3.10.0"
  }
 },
 "nbformat": 4,
 "nbformat_minor": 5
}
