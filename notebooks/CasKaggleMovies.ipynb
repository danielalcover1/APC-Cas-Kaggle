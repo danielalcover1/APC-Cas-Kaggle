{
 "cells": [
  {
   "cell_type": "markdown",
   "id": "9fdbec66",
   "metadata": {},
   "source": [
    "# UAB - Aprendizaje Computacional  \n"
   ]
  },
  {
   "cell_type": "markdown",
   "id": "0d39fe3d",
   "metadata": {},
   "source": [
    "## Cas Kaggle "
   ]
  },
  {
   "cell_type": "markdown",
   "id": "e7e28bc5",
   "metadata": {},
   "source": [
    "## Introducció"
   ]
  },
  {
   "cell_type": "markdown",
   "id": "37fd89d4",
   "metadata": {},
   "source": [
    "La base de dades consisteix en un conjunt de pel·lícules majoritàriament del segle 21 però també del segle 20.\n",
    "Cada pel·lícula té marcat en quina plataforma de Streaming hi és.\n",
    "\n",
    "Plataformes hi ha les 4 més importants avui dia: Netflix, Hulu, Prime Video i Disney +.\n",
    "També conté la valoració de cadascuna de les pel·lícules a la web \"Rotten Tomatoes\". És una web molt coneguda i respectada a escala mundial sobre el món cinematogràfic.\n",
    "\n",
    "La idea darrere d'aquest dataset és poder saber a quina plataforma anar quan es vulgui veure una pel·lícula en particular, i també fer un estudi sobre els conjunts de pel·lícules orientades a una franja d'edat i les plataformes que les ofereixen."
   ]
  },
  {
   "cell_type": "markdown",
   "id": "67fd9fe6",
   "metadata": {},
   "source": [
    "## Llibreries usades"
   ]
  },
  {
   "cell_type": "code",
   "execution_count": 2,
   "id": "353b2a33",
   "metadata": {},
   "outputs": [
    {
     "ename": "ModuleNotFoundError",
     "evalue": "No module named 'altair'",
     "output_type": "error",
     "traceback": [
      "\u001b[1;31m---------------------------------------------------------------------------\u001b[0m",
      "\u001b[1;31mModuleNotFoundError\u001b[0m                       Traceback (most recent call last)",
      "Input \u001b[1;32mIn [2]\u001b[0m, in \u001b[0;36m<cell line: 18>\u001b[1;34m()\u001b[0m\n\u001b[0;32m     16\u001b[0m \u001b[38;5;28;01mfrom\u001b[39;00m \u001b[38;5;21;01msklearn\u001b[39;00m\u001b[38;5;21;01m.\u001b[39;00m\u001b[38;5;21;01mnaive_bayes\u001b[39;00m \u001b[38;5;28;01mimport\u001b[39;00m GaussianNB\n\u001b[0;32m     17\u001b[0m \u001b[38;5;28;01mimport\u001b[39;00m \u001b[38;5;21;01mwarnings\u001b[39;00m\n\u001b[1;32m---> 18\u001b[0m \u001b[38;5;28;01mimport\u001b[39;00m \u001b[38;5;21;01maltair\u001b[39;00m \u001b[38;5;28;01mas\u001b[39;00m \u001b[38;5;21;01malt\u001b[39;00m\n\u001b[0;32m     19\u001b[0m \u001b[38;5;28;01mfrom\u001b[39;00m \u001b[38;5;21;01mimblearn\u001b[39;00m\u001b[38;5;21;01m.\u001b[39;00m\u001b[38;5;21;01munder_sampling\u001b[39;00m \u001b[38;5;28;01mimport\u001b[39;00m RandomUnderSampler\n\u001b[0;32m     20\u001b[0m \u001b[38;5;28;01mimport\u001b[39;00m \u001b[38;5;21;01mtimeit\u001b[39;00m\n",
      "\u001b[1;31mModuleNotFoundError\u001b[0m: No module named 'altair'"
     ]
    }
   ],
   "source": [
    "import numpy as np\n",
    "import os\n",
    "import pandas as pd\n",
    "import matplotlib.pyplot as plt\n",
    "from sklearn.linear_model import LogisticRegression\n",
    "from sklearn import svm, ensemble,metrics\n",
    "from sklearn.model_selection import train_test_split, GridSearchCV,RandomizedSearchCV,KFold, StratifiedKFold, cross_val_score,LeaveOneOut\n",
    "from numpy import mean,std\n",
    "import seaborn as sns\n",
    "from sklearn.metrics import confusion_matrix, accuracy_score,precision_score, recall_score, f1_score, accuracy_score,roc_curve,classification_report,auc,precision_recall_curve\n",
    "from sklearn.preprocessing import OneHotEncoder\n",
    "from sklearn.svm import SVC\n",
    "from sklearn.ensemble import RandomForestClassifier\n",
    "from sklearn.neighbors import KNeighborsClassifier\n",
    "from sklearn.tree import DecisionTreeClassifier\n",
    "from sklearn.naive_bayes import GaussianNB\n",
    "import warnings\n",
    "import altair as alt\n",
    "from imblearn.under_sampling import RandomUnderSampler\n",
    "import timeit\n",
    "from collections import Counter"
   ]
  }
 ],
 "metadata": {
  "kernelspec": {
   "display_name": "Python 3 (ipykernel)",
   "language": "python",
   "name": "python3"
  },
  "language_info": {
   "codemirror_mode": {
    "name": "ipython",
    "version": 3
   },
   "file_extension": ".py",
   "mimetype": "text/x-python",
   "name": "python",
   "nbconvert_exporter": "python",
   "pygments_lexer": "ipython3",
   "version": "3.10.0"
  }
 },
 "nbformat": 4,
 "nbformat_minor": 5
}
